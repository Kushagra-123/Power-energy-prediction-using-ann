{
  "nbformat": 4,
  "nbformat_minor": 0,
  "metadata": {
    "colab": {
      "name": "Power-energy prediction.ipynb",
      "provenance": [],
      "collapsed_sections": []
    },
    "kernelspec": {
      "name": "python3",
      "display_name": "Python 3"
    },
    "language_info": {
      "name": "python"
    }
  },
  "cells": [
    {
      "cell_type": "code",
      "metadata": {
        "id": "E6xRkMCf_4ko"
      },
      "source": [
        "import pandas as pd\n",
        "import numpy as np\n",
        "import tensorflow as tf"
      ],
      "execution_count": 1,
      "outputs": []
    },
    {
      "cell_type": "code",
      "metadata": {
        "colab": {
          "base_uri": "https://localhost:8080/",
          "height": 35
        },
        "id": "H3g-RY70AUuQ",
        "outputId": "c1112fc9-6dfe-4e01-ae7f-6ae14eafb092"
      },
      "source": [
        "tf.__version__"
      ],
      "execution_count": 2,
      "outputs": [
        {
          "output_type": "execute_result",
          "data": {
            "application/vnd.google.colaboratory.intrinsic+json": {
              "type": "string"
            },
            "text/plain": [
              "'2.5.0'"
            ]
          },
          "metadata": {
            "tags": []
          },
          "execution_count": 2
        }
      ]
    },
    {
      "cell_type": "code",
      "metadata": {
        "colab": {
          "base_uri": "https://localhost:8080/",
          "height": 203
        },
        "id": "pG0JhDr9Agio",
        "outputId": "41463492-3d00-4509-87d1-e2ac9c0ee841"
      },
      "source": [
        "df = pd.read_excel(r'/content/Folds5x2_pp.xlsx')\n",
        "df.head()"
      ],
      "execution_count": 7,
      "outputs": [
        {
          "output_type": "execute_result",
          "data": {
            "text/html": [
              "<div>\n",
              "<style scoped>\n",
              "    .dataframe tbody tr th:only-of-type {\n",
              "        vertical-align: middle;\n",
              "    }\n",
              "\n",
              "    .dataframe tbody tr th {\n",
              "        vertical-align: top;\n",
              "    }\n",
              "\n",
              "    .dataframe thead th {\n",
              "        text-align: right;\n",
              "    }\n",
              "</style>\n",
              "<table border=\"1\" class=\"dataframe\">\n",
              "  <thead>\n",
              "    <tr style=\"text-align: right;\">\n",
              "      <th></th>\n",
              "      <th>AT</th>\n",
              "      <th>V</th>\n",
              "      <th>AP</th>\n",
              "      <th>RH</th>\n",
              "      <th>PE</th>\n",
              "    </tr>\n",
              "  </thead>\n",
              "  <tbody>\n",
              "    <tr>\n",
              "      <th>0</th>\n",
              "      <td>14.96</td>\n",
              "      <td>41.76</td>\n",
              "      <td>1024.07</td>\n",
              "      <td>73.17</td>\n",
              "      <td>463.26</td>\n",
              "    </tr>\n",
              "    <tr>\n",
              "      <th>1</th>\n",
              "      <td>25.18</td>\n",
              "      <td>62.96</td>\n",
              "      <td>1020.04</td>\n",
              "      <td>59.08</td>\n",
              "      <td>444.37</td>\n",
              "    </tr>\n",
              "    <tr>\n",
              "      <th>2</th>\n",
              "      <td>5.11</td>\n",
              "      <td>39.40</td>\n",
              "      <td>1012.16</td>\n",
              "      <td>92.14</td>\n",
              "      <td>488.56</td>\n",
              "    </tr>\n",
              "    <tr>\n",
              "      <th>3</th>\n",
              "      <td>20.86</td>\n",
              "      <td>57.32</td>\n",
              "      <td>1010.24</td>\n",
              "      <td>76.64</td>\n",
              "      <td>446.48</td>\n",
              "    </tr>\n",
              "    <tr>\n",
              "      <th>4</th>\n",
              "      <td>10.82</td>\n",
              "      <td>37.50</td>\n",
              "      <td>1009.23</td>\n",
              "      <td>96.62</td>\n",
              "      <td>473.90</td>\n",
              "    </tr>\n",
              "  </tbody>\n",
              "</table>\n",
              "</div>"
            ],
            "text/plain": [
              "      AT      V       AP     RH      PE\n",
              "0  14.96  41.76  1024.07  73.17  463.26\n",
              "1  25.18  62.96  1020.04  59.08  444.37\n",
              "2   5.11  39.40  1012.16  92.14  488.56\n",
              "3  20.86  57.32  1010.24  76.64  446.48\n",
              "4  10.82  37.50  1009.23  96.62  473.90"
            ]
          },
          "metadata": {
            "tags": []
          },
          "execution_count": 7
        }
      ]
    },
    {
      "cell_type": "code",
      "metadata": {
        "colab": {
          "base_uri": "https://localhost:8080/"
        },
        "id": "jZogTD8RDau2",
        "outputId": "80af5bcc-cc22-4f96-ce16-979870529ae5"
      },
      "source": [
        "x = df.iloc[:,:-1].values\n",
        "y = df.iloc[:,-1].values\n",
        "print(x)\n",
        "print(y)"
      ],
      "execution_count": 9,
      "outputs": [
        {
          "output_type": "stream",
          "text": [
            "[[  14.96   41.76 1024.07   73.17]\n",
            " [  25.18   62.96 1020.04   59.08]\n",
            " [   5.11   39.4  1012.16   92.14]\n",
            " ...\n",
            " [  31.32   74.33 1012.92   36.48]\n",
            " [  24.48   69.45 1013.86   62.39]\n",
            " [  21.6    62.52 1017.23   67.87]]\n",
            "[463.26 444.37 488.56 ... 429.57 435.74 453.28]\n"
          ],
          "name": "stdout"
        }
      ]
    },
    {
      "cell_type": "code",
      "metadata": {
        "id": "xJQS7ANGD1d7"
      },
      "source": [
        "from sklearn.model_selection import train_test_split\n",
        "x_train,x_test,y_train,y_test = train_test_split(x,y,test_size = 0.2,random_state = 10)"
      ],
      "execution_count": 11,
      "outputs": []
    },
    {
      "cell_type": "code",
      "metadata": {
        "id": "zZQEh-n7F8Ke"
      },
      "source": [
        "#Building ANN#\n",
        "ann = tf.keras.models.Sequential()"
      ],
      "execution_count": 12,
      "outputs": []
    },
    {
      "cell_type": "code",
      "metadata": {
        "id": "VMQS_PG_Ip9R"
      },
      "source": [
        "#adding layers#\n",
        "ann.add(tf.keras.layers.Dense(units = 6,activation='relu'))#dense layer will create the layers bw input and hidden layers and units is num of layers#"
      ],
      "execution_count": 13,
      "outputs": []
    },
    {
      "cell_type": "code",
      "metadata": {
        "id": "vxDBXBI4LrFY"
      },
      "source": [
        "#adding another hidden layer#\n",
        "ann.add(tf.keras.layers.Dense(units = 6,activation='relu'))"
      ],
      "execution_count": 14,
      "outputs": []
    },
    {
      "cell_type": "code",
      "metadata": {
        "id": "G_jV2ZLTMJce"
      },
      "source": [
        "#output layer#\n",
        "ann.add(tf.keras.layers.Dense(units = 1,activation='sigmoid'))"
      ],
      "execution_count": 15,
      "outputs": []
    },
    {
      "cell_type": "code",
      "metadata": {
        "id": "MB9dOd2lNQo8"
      },
      "source": [
        "#compile the model for applying propogation in the model#\n",
        "ann.compile(optimizer='adam',loss = 'mean_squared_error')#optimizer reduces the loss#"
      ],
      "execution_count": 16,
      "outputs": []
    },
    {
      "cell_type": "code",
      "metadata": {
        "colab": {
          "base_uri": "https://localhost:8080/"
        },
        "id": "hXhZik8gPhzt",
        "outputId": "209a87f5-08a9-45ff-8dd1-6b41849276c5"
      },
      "source": [
        "#training our model#\n",
        "ann.fit(x_train,y_train,batch_size=32,epochs=100)#The number of epochs is a hyperparameter that defines the number times that the learning algorithm will work through the entire training dataset. One epoch means that each sample in the training dataset has had an opportunity to update the internal model parameters. An epoch is comprised of one or more batchesand it also reduce the loss error#"
      ],
      "execution_count": 18,
      "outputs": [
        {
          "output_type": "stream",
          "text": [
            "Epoch 1/100\n",
            "240/240 [==============================] - 0s 1ms/step - loss: 205729.5469\n",
            "Epoch 2/100\n",
            "240/240 [==============================] - 0s 1ms/step - loss: 205729.5469\n",
            "Epoch 3/100\n",
            "240/240 [==============================] - 0s 1ms/step - loss: 205729.5625\n",
            "Epoch 4/100\n",
            "240/240 [==============================] - 0s 1ms/step - loss: 205729.5156\n",
            "Epoch 5/100\n",
            "240/240 [==============================] - 0s 1ms/step - loss: 205729.5625\n",
            "Epoch 6/100\n",
            "240/240 [==============================] - 0s 1ms/step - loss: 205729.5625\n",
            "Epoch 7/100\n",
            "240/240 [==============================] - 0s 1ms/step - loss: 205729.5625\n",
            "Epoch 8/100\n",
            "240/240 [==============================] - 0s 1ms/step - loss: 205729.5469\n",
            "Epoch 9/100\n",
            "240/240 [==============================] - 0s 1ms/step - loss: 205729.5312\n",
            "Epoch 10/100\n",
            "240/240 [==============================] - 0s 1ms/step - loss: 205729.5938\n",
            "Epoch 11/100\n",
            "240/240 [==============================] - 0s 1ms/step - loss: 205729.5312\n",
            "Epoch 12/100\n",
            "240/240 [==============================] - 0s 1ms/step - loss: 205729.5312\n",
            "Epoch 13/100\n",
            "240/240 [==============================] - 0s 1ms/step - loss: 205729.5625\n",
            "Epoch 14/100\n",
            "240/240 [==============================] - 0s 1ms/step - loss: 205729.5156\n",
            "Epoch 15/100\n",
            "240/240 [==============================] - 0s 1ms/step - loss: 205729.5781\n",
            "Epoch 16/100\n",
            "240/240 [==============================] - 0s 1ms/step - loss: 205729.5312\n",
            "Epoch 17/100\n",
            "240/240 [==============================] - 0s 1ms/step - loss: 205729.5625\n",
            "Epoch 18/100\n",
            "240/240 [==============================] - 0s 1ms/step - loss: 205729.5156\n",
            "Epoch 19/100\n",
            "240/240 [==============================] - 0s 1ms/step - loss: 205729.5156\n",
            "Epoch 20/100\n",
            "240/240 [==============================] - 0s 1ms/step - loss: 205729.5156\n",
            "Epoch 21/100\n",
            "240/240 [==============================] - 0s 1ms/step - loss: 205729.5625\n",
            "Epoch 22/100\n",
            "240/240 [==============================] - 0s 1ms/step - loss: 205729.5781\n",
            "Epoch 23/100\n",
            "240/240 [==============================] - 0s 1ms/step - loss: 205729.5312\n",
            "Epoch 24/100\n",
            "240/240 [==============================] - 0s 1ms/step - loss: 205729.5469\n",
            "Epoch 25/100\n",
            "240/240 [==============================] - 0s 1ms/step - loss: 205729.7188\n",
            "Epoch 26/100\n",
            "240/240 [==============================] - 0s 1ms/step - loss: 205729.5156\n",
            "Epoch 27/100\n",
            "240/240 [==============================] - 0s 1ms/step - loss: 205729.6406\n",
            "Epoch 28/100\n",
            "240/240 [==============================] - 0s 1ms/step - loss: 205729.5469\n",
            "Epoch 29/100\n",
            "240/240 [==============================] - 0s 1ms/step - loss: 205729.5781\n",
            "Epoch 30/100\n",
            "240/240 [==============================] - 0s 1ms/step - loss: 205729.5312\n",
            "Epoch 31/100\n",
            "240/240 [==============================] - 0s 1ms/step - loss: 205729.5938\n",
            "Epoch 32/100\n",
            "240/240 [==============================] - 0s 1ms/step - loss: 205729.5000\n",
            "Epoch 33/100\n",
            "240/240 [==============================] - 0s 1ms/step - loss: 205729.5625\n",
            "Epoch 34/100\n",
            "240/240 [==============================] - 0s 1ms/step - loss: 205729.5312\n",
            "Epoch 35/100\n",
            "240/240 [==============================] - 0s 1ms/step - loss: 205729.5312\n",
            "Epoch 36/100\n",
            "240/240 [==============================] - 0s 1ms/step - loss: 205729.5625\n",
            "Epoch 37/100\n",
            "240/240 [==============================] - 0s 1ms/step - loss: 205729.5625\n",
            "Epoch 38/100\n",
            "240/240 [==============================] - 0s 1ms/step - loss: 205729.7031\n",
            "Epoch 39/100\n",
            "240/240 [==============================] - 0s 1ms/step - loss: 205729.5469\n",
            "Epoch 40/100\n",
            "240/240 [==============================] - 0s 1ms/step - loss: 205729.5000\n",
            "Epoch 41/100\n",
            "240/240 [==============================] - 0s 1ms/step - loss: 205729.5938\n",
            "Epoch 42/100\n",
            "240/240 [==============================] - 0s 1ms/step - loss: 205729.5312\n",
            "Epoch 43/100\n",
            "240/240 [==============================] - 0s 1ms/step - loss: 205729.5312\n",
            "Epoch 44/100\n",
            "240/240 [==============================] - 0s 1ms/step - loss: 205729.5938\n",
            "Epoch 45/100\n",
            "240/240 [==============================] - 0s 1ms/step - loss: 205729.6094\n",
            "Epoch 46/100\n",
            "240/240 [==============================] - 0s 1ms/step - loss: 205729.5938\n",
            "Epoch 47/100\n",
            "240/240 [==============================] - 0s 1ms/step - loss: 205729.5312\n",
            "Epoch 48/100\n",
            "240/240 [==============================] - 0s 1ms/step - loss: 205729.6250\n",
            "Epoch 49/100\n",
            "240/240 [==============================] - 0s 1ms/step - loss: 205729.6094\n",
            "Epoch 50/100\n",
            "240/240 [==============================] - 0s 1ms/step - loss: 205729.6562\n",
            "Epoch 51/100\n",
            "240/240 [==============================] - 0s 1ms/step - loss: 205729.5625\n",
            "Epoch 52/100\n",
            "240/240 [==============================] - 0s 1ms/step - loss: 205729.5000\n",
            "Epoch 53/100\n",
            "240/240 [==============================] - 0s 1ms/step - loss: 205729.5156\n",
            "Epoch 54/100\n",
            "240/240 [==============================] - 0s 1ms/step - loss: 205729.6094\n",
            "Epoch 55/100\n",
            "240/240 [==============================] - 0s 1ms/step - loss: 205729.5469\n",
            "Epoch 56/100\n",
            "240/240 [==============================] - 0s 1ms/step - loss: 205729.5781\n",
            "Epoch 57/100\n",
            "240/240 [==============================] - 0s 1ms/step - loss: 205729.6094\n",
            "Epoch 58/100\n",
            "240/240 [==============================] - 0s 1ms/step - loss: 205729.5781\n",
            "Epoch 59/100\n",
            "240/240 [==============================] - 0s 1ms/step - loss: 205729.5625\n",
            "Epoch 60/100\n",
            "240/240 [==============================] - 0s 1ms/step - loss: 205729.5938\n",
            "Epoch 61/100\n",
            "240/240 [==============================] - 0s 1ms/step - loss: 205729.5312\n",
            "Epoch 62/100\n",
            "240/240 [==============================] - 0s 1ms/step - loss: 205729.5938\n",
            "Epoch 63/100\n",
            "240/240 [==============================] - 0s 1ms/step - loss: 205729.5625\n",
            "Epoch 64/100\n",
            "240/240 [==============================] - 0s 1ms/step - loss: 205729.5312\n",
            "Epoch 65/100\n",
            "240/240 [==============================] - 0s 1ms/step - loss: 205729.6875\n",
            "Epoch 66/100\n",
            "240/240 [==============================] - 0s 1ms/step - loss: 205729.5000\n",
            "Epoch 67/100\n",
            "240/240 [==============================] - 0s 1ms/step - loss: 205729.4531\n",
            "Epoch 68/100\n",
            "240/240 [==============================] - 0s 1ms/step - loss: 205729.5625\n",
            "Epoch 69/100\n",
            "240/240 [==============================] - 0s 1ms/step - loss: 205729.5938\n",
            "Epoch 70/100\n",
            "240/240 [==============================] - 0s 1ms/step - loss: 205729.6094\n",
            "Epoch 71/100\n",
            "240/240 [==============================] - 0s 1ms/step - loss: 205729.6094\n",
            "Epoch 72/100\n",
            "240/240 [==============================] - 0s 1ms/step - loss: 205729.5312\n",
            "Epoch 73/100\n",
            "240/240 [==============================] - 0s 1ms/step - loss: 205729.4531\n",
            "Epoch 74/100\n",
            "240/240 [==============================] - 0s 1ms/step - loss: 205729.5625\n",
            "Epoch 75/100\n",
            "240/240 [==============================] - 0s 1ms/step - loss: 205729.5312\n",
            "Epoch 76/100\n",
            "240/240 [==============================] - 0s 1ms/step - loss: 205729.5469\n",
            "Epoch 77/100\n",
            "240/240 [==============================] - 0s 1ms/step - loss: 205729.6094\n",
            "Epoch 78/100\n",
            "240/240 [==============================] - 0s 1ms/step - loss: 205729.5156\n",
            "Epoch 79/100\n",
            "240/240 [==============================] - 0s 1ms/step - loss: 205729.5938\n",
            "Epoch 80/100\n",
            "240/240 [==============================] - 0s 1ms/step - loss: 205729.5469\n",
            "Epoch 81/100\n",
            "240/240 [==============================] - 0s 1ms/step - loss: 205729.5156\n",
            "Epoch 82/100\n",
            "240/240 [==============================] - 0s 1ms/step - loss: 205729.5469\n",
            "Epoch 83/100\n",
            "240/240 [==============================] - 0s 1ms/step - loss: 205729.6406\n",
            "Epoch 84/100\n",
            "240/240 [==============================] - 0s 1ms/step - loss: 205729.5938\n",
            "Epoch 85/100\n",
            "240/240 [==============================] - 0s 1ms/step - loss: 205729.5312\n",
            "Epoch 86/100\n",
            "240/240 [==============================] - 0s 1ms/step - loss: 205729.6094\n",
            "Epoch 87/100\n",
            "240/240 [==============================] - 0s 1ms/step - loss: 205729.5625\n",
            "Epoch 88/100\n",
            "240/240 [==============================] - 0s 1ms/step - loss: 205729.5625\n",
            "Epoch 89/100\n",
            "240/240 [==============================] - 0s 1ms/step - loss: 205729.6250\n",
            "Epoch 90/100\n",
            "240/240 [==============================] - 0s 1ms/step - loss: 205729.5625\n",
            "Epoch 91/100\n",
            "240/240 [==============================] - 0s 1ms/step - loss: 205729.6406\n",
            "Epoch 92/100\n",
            "240/240 [==============================] - 0s 1ms/step - loss: 205729.6406\n",
            "Epoch 93/100\n",
            "240/240 [==============================] - 0s 1ms/step - loss: 205729.5000\n",
            "Epoch 94/100\n",
            "240/240 [==============================] - 0s 1ms/step - loss: 205729.6094\n",
            "Epoch 95/100\n",
            "240/240 [==============================] - 0s 1ms/step - loss: 205729.5781\n",
            "Epoch 96/100\n",
            "240/240 [==============================] - 0s 1ms/step - loss: 205729.5781\n",
            "Epoch 97/100\n",
            "240/240 [==============================] - 0s 1ms/step - loss: 205729.6094\n",
            "Epoch 98/100\n",
            "240/240 [==============================] - 0s 1ms/step - loss: 205729.5938\n",
            "Epoch 99/100\n",
            "240/240 [==============================] - 0s 1ms/step - loss: 205729.5469\n",
            "Epoch 100/100\n",
            "240/240 [==============================] - 0s 1ms/step - loss: 205729.6406\n"
          ],
          "name": "stdout"
        },
        {
          "output_type": "execute_result",
          "data": {
            "text/plain": [
              "<tensorflow.python.keras.callbacks.History at 0x7fb589a4c5d0>"
            ]
          },
          "metadata": {
            "tags": []
          },
          "execution_count": 18
        }
      ]
    },
    {
      "cell_type": "code",
      "metadata": {
        "id": "Gf2ofnndQ-jU"
      },
      "source": [
        "#predictions#\n",
        "y_pred = ann.predict(x_test)"
      ],
      "execution_count": 21,
      "outputs": []
    },
    {
      "cell_type": "code",
      "metadata": {
        "colab": {
          "base_uri": "https://localhost:8080/"
        },
        "id": "l4RvAkg8SUqa",
        "outputId": "245f573d-7dbc-483c-88eb-b6003e3bfa03"
      },
      "source": [
        "np.printoptions(precision = 2)\n",
        "print(np.concatenate((y_pred.reshape(len(y_pred),1),y_test.reshape(len(y_test),1)),1))"
      ],
      "execution_count": 22,
      "outputs": [
        {
          "output_type": "stream",
          "text": [
            "[[  1.   456.57]\n",
            " [  1.   438.7 ]\n",
            " [  1.   436.09]\n",
            " ...\n",
            " [  1.   431.27]\n",
            " [  1.   441.17]\n",
            " [  1.   461.08]]\n"
          ],
          "name": "stdout"
        }
      ]
    }
  ]
}